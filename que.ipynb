{
 "cells": [
  {
   "cell_type": "code",
   "execution_count": 20,
   "metadata": {},
   "outputs": [],
   "source": [
    "import numpy as np\n",
    "\n",
    "# Generating random data for users\n",
    "np.random.seed(42)\n",
    "n_users = 1000\n",
    "ages = np.random.randint(20, 31, size=n_users)\n",
    "genders = np.random.choice(['Male', 'Female', 'Others'], size=n_users)\n",
    "cities = np.random.choice(['City1', 'City2', 'City3', 'City4', 'City5', 'City6', 'City7', 'City8', 'City9', 'City10', 'City11', 'City12', 'City13', 'City14', 'City15', 'City16', 'City17', 'City18', 'City19', 'City20'], size=n_users)\n",
    "\n",
    "# Generating random playing stats for 10 days for every game ID (1 to 20) recorded hourly (60 minute intervals) for each user\n",
    "n_games = 20\n",
    "n_days = 10\n",
    "n_hours = 9\n",
    "game_stats = np.zeros((n_users, n_days, n_hours, n_games))\n",
    "for i in range(n_users):\n",
    "    for j in range(n_days):\n",
    "        for k in range(n_hours):\n",
    "            game_id = np.random.randint(1, 21)\n",
    "            game_stats[i, j, k, game_id-1] = 1\n"
   ]
  },
  {
   "cell_type": "code",
   "execution_count": 21,
   "metadata": {},
   "outputs": [
    {
     "data": {
      "text/plain": [
       "1800000"
      ]
     },
     "execution_count": 21,
     "metadata": {},
     "output_type": "execute_result"
    }
   ],
   "source": [
    "game_stats.size"
   ]
  },
  {
   "cell_type": "code",
   "execution_count": 18,
   "metadata": {},
   "outputs": [
    {
     "data": {
      "text/plain": [
       "numpy.ndarray"
      ]
     },
     "execution_count": 18,
     "metadata": {},
     "output_type": "execute_result"
    }
   ],
   "source": [
    "type(game_stats)\n"
   ]
  },
  {
   "cell_type": "code",
   "execution_count": 12,
   "metadata": {},
   "outputs": [
    {
     "name": "stdout",
     "output_type": "stream",
     "text": [
      "None\n"
     ]
    }
   ],
   "source": [
    "print(np.random.seed(42))"
   ]
  },
  {
   "cell_type": "code",
   "execution_count": 23,
   "metadata": {},
   "outputs": [
    {
     "data": {
      "text/plain": [
       "numpy.ndarray"
      ]
     },
     "execution_count": 23,
     "metadata": {},
     "output_type": "execute_result"
    }
   ],
   "source": [
    "type(genders)"
   ]
  },
  {
   "cell_type": "code",
   "execution_count": 26,
   "metadata": {},
   "outputs": [
    {
     "data": {
      "text/plain": [
       "1000"
      ]
     },
     "execution_count": 26,
     "metadata": {},
     "output_type": "execute_result"
    }
   ],
   "source": [
    "genders.size"
   ]
  },
  {
   "cell_type": "code",
   "execution_count": 27,
   "metadata": {},
   "outputs": [
    {
     "data": {
      "text/plain": [
       "array(['Others', 'Female', 'Others', 'Male', 'Female', 'Male', 'Others',\n",
       "       'Others', 'Others', 'Male', 'Male', 'Male', 'Male', 'Others',\n",
       "       'Others', 'Female', 'Female', 'Male', 'Others', 'Others', 'Others',\n",
       "       'Female', 'Female', 'Others', 'Others', 'Others', 'Female',\n",
       "       'Others', 'Others', 'Male', 'Male', 'Female', 'Others', 'Others',\n",
       "       'Male', 'Female', 'Male', 'Male', 'Male', 'Male', 'Others',\n",
       "       'Others', 'Male', 'Female', 'Female', 'Female', 'Female', 'Male',\n",
       "       'Others', 'Female', 'Male', 'Female', 'Female', 'Male', 'Others',\n",
       "       'Others', 'Male', 'Others', 'Male', 'Male', 'Male', 'Others',\n",
       "       'Male', 'Female', 'Others', 'Others', 'Others', 'Others', 'Female',\n",
       "       'Others', 'Others', 'Male', 'Others', 'Female', 'Female', 'Female',\n",
       "       'Female', 'Others', 'Others', 'Female', 'Female', 'Others',\n",
       "       'Female', 'Male', 'Female', 'Female', 'Male', 'Male', 'Others',\n",
       "       'Others', 'Male', 'Male', 'Others', 'Female', 'Male', 'Others',\n",
       "       'Female', 'Male', 'Female', 'Others', 'Male', 'Female', 'Male',\n",
       "       'Female', 'Others', 'Others', 'Male', 'Female', 'Male', 'Male',\n",
       "       'Female', 'Female', 'Female', 'Others', 'Male', 'Male', 'Others',\n",
       "       'Female', 'Others', 'Others', 'Others', 'Male', 'Others', 'Male',\n",
       "       'Male', 'Male', 'Female', 'Male', 'Male', 'Female', 'Male',\n",
       "       'Others', 'Others', 'Male', 'Female', 'Others', 'Female', 'Female',\n",
       "       'Others', 'Female', 'Others', 'Female', 'Others', 'Male', 'Others',\n",
       "       'Others', 'Others', 'Others', 'Female', 'Male', 'Others', 'Female',\n",
       "       'Male', 'Male', 'Male', 'Male', 'Others', 'Others', 'Female',\n",
       "       'Female', 'Female', 'Male', 'Male', 'Others', 'Male', 'Male',\n",
       "       'Male', 'Female', 'Female', 'Others', 'Male', 'Male', 'Others',\n",
       "       'Male', 'Male', 'Female', 'Others', 'Others', 'Others', 'Others',\n",
       "       'Female', 'Female', 'Male', 'Male', 'Male', 'Male', 'Female',\n",
       "       'Others', 'Female', 'Male', 'Female', 'Others', 'Others', 'Female',\n",
       "       'Female', 'Female', 'Male', 'Female', 'Female', 'Female', 'Others',\n",
       "       'Others', 'Male', 'Male', 'Others', 'Others', 'Others', 'Female',\n",
       "       'Female', 'Others', 'Female', 'Female', 'Male', 'Others', 'Others',\n",
       "       'Female', 'Others', 'Male', 'Male', 'Male', 'Others', 'Others',\n",
       "       'Others', 'Others', 'Others', 'Male', 'Female', 'Male', 'Others',\n",
       "       'Male', 'Others', 'Others', 'Male', 'Others', 'Female', 'Others',\n",
       "       'Female', 'Female', 'Others', 'Male', 'Female', 'Male', 'Female',\n",
       "       'Others', 'Others', 'Female', 'Others', 'Female', 'Others', 'Male',\n",
       "       'Others', 'Male', 'Others', 'Male', 'Others', 'Male', 'Female',\n",
       "       'Female', 'Male', 'Others', 'Male', 'Others', 'Female', 'Others',\n",
       "       'Female', 'Others', 'Others', 'Others', 'Male', 'Male', 'Female',\n",
       "       'Female', 'Male', 'Female', 'Male', 'Others', 'Female', 'Female',\n",
       "       'Male', 'Female', 'Female', 'Others', 'Female', 'Others', 'Male',\n",
       "       'Female', 'Others', 'Male', 'Female', 'Male', 'Female', 'Male',\n",
       "       'Male', 'Others', 'Male', 'Female', 'Female', 'Others', 'Female',\n",
       "       'Female', 'Female', 'Male', 'Male', 'Female', 'Others', 'Male',\n",
       "       'Others', 'Female', 'Female', 'Male', 'Female', 'Male', 'Female',\n",
       "       'Female', 'Male', 'Male', 'Male', 'Female', 'Female', 'Others',\n",
       "       'Male', 'Female', 'Female', 'Male', 'Others', 'Male', 'Others',\n",
       "       'Female', 'Others', 'Female', 'Male', 'Male', 'Male', 'Others',\n",
       "       'Female', 'Male', 'Male', 'Female', 'Male', 'Female', 'Female',\n",
       "       'Female', 'Female', 'Female', 'Others', 'Male', 'Others', 'Male',\n",
       "       'Others', 'Female', 'Male', 'Male', 'Others', 'Others', 'Male',\n",
       "       'Others', 'Others', 'Others', 'Female', 'Female', 'Others',\n",
       "       'Others', 'Female', 'Female', 'Male', 'Male', 'Female', 'Others',\n",
       "       'Others', 'Others', 'Others', 'Male', 'Female', 'Others', 'Male',\n",
       "       'Others', 'Female', 'Male', 'Female', 'Female', 'Male', 'Male',\n",
       "       'Male', 'Male', 'Male', 'Male', 'Male', 'Others', 'Female', 'Male',\n",
       "       'Others', 'Others', 'Others', 'Female', 'Male', 'Others', 'Female',\n",
       "       'Female', 'Female', 'Others', 'Male', 'Others', 'Others', 'Male',\n",
       "       'Male', 'Male', 'Female', 'Male', 'Others', 'Male', 'Others',\n",
       "       'Female', 'Others', 'Others', 'Male', 'Male', 'Others', 'Male',\n",
       "       'Female', 'Female', 'Male', 'Female', 'Male', 'Others', 'Others',\n",
       "       'Female', 'Male', 'Male', 'Female', 'Others', 'Female', 'Others',\n",
       "       'Male', 'Others', 'Female', 'Male', 'Female', 'Female', 'Others',\n",
       "       'Female', 'Others', 'Male', 'Others', 'Male', 'Others', 'Female',\n",
       "       'Others', 'Others', 'Male', 'Female', 'Others', 'Female', 'Others',\n",
       "       'Others', 'Female', 'Others', 'Female', 'Others', 'Male', 'Female',\n",
       "       'Others', 'Others', 'Male', 'Female', 'Others', 'Male', 'Others',\n",
       "       'Female', 'Others', 'Others', 'Others', 'Others', 'Male', 'Male',\n",
       "       'Female', 'Male', 'Male', 'Female', 'Male', 'Male', 'Female',\n",
       "       'Female', 'Female', 'Others', 'Others', 'Female', 'Female',\n",
       "       'Female', 'Others', 'Others', 'Male', 'Male', 'Female', 'Others',\n",
       "       'Others', 'Others', 'Female', 'Male', 'Female', 'Male', 'Male',\n",
       "       'Female', 'Male', 'Male', 'Others', 'Male', 'Female', 'Female',\n",
       "       'Male', 'Others', 'Others', 'Male', 'Male', 'Female', 'Male',\n",
       "       'Others', 'Male', 'Female', 'Female', 'Female', 'Female', 'Female',\n",
       "       'Male', 'Male', 'Male', 'Male', 'Female', 'Others', 'Male',\n",
       "       'Others', 'Male', 'Male', 'Others', 'Female', 'Male', 'Male',\n",
       "       'Male', 'Others', 'Female', 'Others', 'Others', 'Female', 'Others',\n",
       "       'Female', 'Male', 'Female', 'Male', 'Others', 'Others', 'Male',\n",
       "       'Others', 'Female', 'Male', 'Others', 'Male', 'Female', 'Female',\n",
       "       'Others', 'Female', 'Male', 'Female', 'Male', 'Male', 'Female',\n",
       "       'Others', 'Female', 'Male', 'Male', 'Female', 'Others', 'Others',\n",
       "       'Male', 'Male', 'Others', 'Female', 'Male', 'Male', 'Others',\n",
       "       'Female', 'Others', 'Female', 'Female', 'Female', 'Male', 'Others',\n",
       "       'Others', 'Female', 'Male', 'Male', 'Others', 'Male', 'Male',\n",
       "       'Female', 'Male', 'Female', 'Others', 'Male', 'Others', 'Others',\n",
       "       'Male', 'Male', 'Others', 'Male', 'Female', 'Female', 'Male',\n",
       "       'Others', 'Male', 'Male', 'Others', 'Others', 'Female', 'Others',\n",
       "       'Female', 'Others', 'Male', 'Female', 'Female', 'Female', 'Male',\n",
       "       'Male', 'Male', 'Male', 'Male', 'Female', 'Male', 'Female', 'Male',\n",
       "       'Others', 'Female', 'Others', 'Female', 'Others', 'Male', 'Male',\n",
       "       'Male', 'Female', 'Others', 'Male', 'Others', 'Others', 'Male',\n",
       "       'Male', 'Others', 'Male', 'Male', 'Male', 'Female', 'Others',\n",
       "       'Others', 'Female', 'Others', 'Male', 'Others', 'Male', 'Female',\n",
       "       'Male', 'Others', 'Others', 'Others', 'Female', 'Female', 'Others',\n",
       "       'Male', 'Female', 'Others', 'Others', 'Female', 'Female', 'Female',\n",
       "       'Male', 'Male', 'Others', 'Female', 'Male', 'Female', 'Others',\n",
       "       'Male', 'Male', 'Male', 'Others', 'Female', 'Male', 'Others',\n",
       "       'Female', 'Others', 'Female', 'Others', 'Female', 'Male', 'Female',\n",
       "       'Others', 'Others', 'Female', 'Male', 'Male', 'Female', 'Female',\n",
       "       'Others', 'Male', 'Female', 'Male', 'Female', 'Female', 'Male',\n",
       "       'Female', 'Female', 'Others', 'Female', 'Female', 'Female',\n",
       "       'Others', 'Male', 'Others', 'Others', 'Male', 'Others', 'Male',\n",
       "       'Others', 'Male', 'Female', 'Others', 'Others', 'Others', 'Others',\n",
       "       'Female', 'Others', 'Female', 'Female', 'Female', 'Female', 'Male',\n",
       "       'Male', 'Others', 'Male', 'Male', 'Others', 'Others', 'Others',\n",
       "       'Male', 'Male', 'Others', 'Female', 'Others', 'Female', 'Female',\n",
       "       'Others', 'Others', 'Others', 'Male', 'Female', 'Male', 'Male',\n",
       "       'Others', 'Male', 'Others', 'Female', 'Others', 'Male', 'Male',\n",
       "       'Others', 'Others', 'Male', 'Female', 'Female', 'Others', 'Female',\n",
       "       'Male', 'Others', 'Male', 'Male', 'Female', 'Others', 'Others',\n",
       "       'Female', 'Male', 'Male', 'Male', 'Male', 'Others', 'Others',\n",
       "       'Female', 'Female', 'Others', 'Others', 'Male', 'Male', 'Female',\n",
       "       'Others', 'Female', 'Others', 'Male', 'Female', 'Female', 'Others',\n",
       "       'Male', 'Female', 'Male', 'Female', 'Male', 'Others', 'Female',\n",
       "       'Female', 'Male', 'Male', 'Female', 'Others', 'Male', 'Male',\n",
       "       'Male', 'Female', 'Female', 'Female', 'Female', 'Others', 'Others',\n",
       "       'Female', 'Others', 'Male', 'Male', 'Male', 'Female', 'Male',\n",
       "       'Others', 'Female', 'Others', 'Male', 'Male', 'Male', 'Female',\n",
       "       'Others', 'Female', 'Female', 'Male', 'Female', 'Female', 'Male',\n",
       "       'Female', 'Male', 'Male', 'Male', 'Male', 'Female', 'Male', 'Male',\n",
       "       'Female', 'Female', 'Others', 'Female', 'Female', 'Others',\n",
       "       'Female', 'Female', 'Female', 'Female', 'Others', 'Female',\n",
       "       'Female', 'Others', 'Male', 'Others', 'Male', 'Others', 'Others',\n",
       "       'Female', 'Male', 'Female', 'Male', 'Others', 'Others', 'Male',\n",
       "       'Female', 'Female', 'Female', 'Female', 'Others', 'Others',\n",
       "       'Others', 'Others', 'Others', 'Female', 'Female', 'Female',\n",
       "       'Female', 'Others', 'Others', 'Others', 'Male', 'Female', 'Female',\n",
       "       'Others', 'Female', 'Female', 'Others', 'Male', 'Male', 'Male',\n",
       "       'Others', 'Female', 'Others', 'Others', 'Female', 'Male', 'Male',\n",
       "       'Others', 'Male', 'Others', 'Others', 'Female', 'Female', 'Female',\n",
       "       'Others', 'Female', 'Male', 'Male', 'Others', 'Others', 'Female',\n",
       "       'Others', 'Others', 'Male', 'Male', 'Female', 'Others', 'Others',\n",
       "       'Male', 'Others', 'Male', 'Female', 'Male', 'Others', 'Female',\n",
       "       'Male', 'Male', 'Female', 'Female', 'Male', 'Others', 'Male',\n",
       "       'Female', 'Male', 'Female', 'Female', 'Others', 'Female', 'Female',\n",
       "       'Others', 'Female', 'Others', 'Others', 'Female', 'Female', 'Male',\n",
       "       'Others', 'Male', 'Female', 'Male', 'Others', 'Male', 'Others',\n",
       "       'Female', 'Female', 'Others', 'Female', 'Female', 'Female',\n",
       "       'Female', 'Others', 'Male', 'Male', 'Female', 'Male', 'Male',\n",
       "       'Female', 'Female', 'Male', 'Others', 'Female', 'Others', 'Male',\n",
       "       'Female', 'Others', 'Female', 'Male', 'Others', 'Male', 'Male',\n",
       "       'Female', 'Others', 'Male', 'Male', 'Others', 'Male', 'Male',\n",
       "       'Others', 'Others', 'Others', 'Others', 'Female', 'Others'],\n",
       "      dtype='<U6')"
      ]
     },
     "execution_count": 27,
     "metadata": {},
     "output_type": "execute_result"
    }
   ],
   "source": [
    "genders"
   ]
  },
  {
   "cell_type": "code",
   "execution_count": 29,
   "metadata": {},
   "outputs": [
    {
     "data": {
      "text/plain": [
       "1000"
      ]
     },
     "execution_count": 29,
     "metadata": {},
     "output_type": "execute_result"
    }
   ],
   "source": [
    "ages.size"
   ]
  },
  {
   "cell_type": "code",
   "execution_count": 30,
   "metadata": {},
   "outputs": [
    {
     "data": {
      "text/plain": [
       "1000"
      ]
     },
     "execution_count": 30,
     "metadata": {},
     "output_type": "execute_result"
    }
   ],
   "source": [
    "cities.size"
   ]
  },
  {
   "cell_type": "code",
   "execution_count": 31,
   "metadata": {},
   "outputs": [
    {
     "data": {
      "text/plain": [
       "array(['City14', 'City16', 'City10', 'City10', 'City12', 'City9', 'City1',\n",
       "       'City5', 'City20', 'City8', 'City11', 'City12', 'City1', 'City20',\n",
       "       'City11', 'City5', 'City15', 'City5', 'City12', 'City5', 'City17',\n",
       "       'City17', 'City12', 'City15', 'City15', 'City6', 'City12',\n",
       "       'City20', 'City18', 'City14', 'City2', 'City9', 'City5', 'City20',\n",
       "       'City1', 'City3', 'City6', 'City5', 'City5', 'City1', 'City17',\n",
       "       'City19', 'City14', 'City12', 'City10', 'City20', 'City18',\n",
       "       'City11', 'City2', 'City18', 'City7', 'City15', 'City11', 'City18',\n",
       "       'City12', 'City6', 'City20', 'City13', 'City20', 'City16',\n",
       "       'City18', 'City10', 'City8', 'City18', 'City1', 'City8', 'City6',\n",
       "       'City5', 'City15', 'City15', 'City2', 'City1', 'City11', 'City10',\n",
       "       'City18', 'City18', 'City17', 'City8', 'City15', 'City8', 'City17',\n",
       "       'City12', 'City8', 'City14', 'City4', 'City1', 'City1', 'City19',\n",
       "       'City16', 'City14', 'City16', 'City5', 'City9', 'City2', 'City18',\n",
       "       'City6', 'City9', 'City1', 'City9', 'City16', 'City13', 'City9',\n",
       "       'City13', 'City9', 'City11', 'City4', 'City2', 'City6', 'City14',\n",
       "       'City4', 'City6', 'City19', 'City6', 'City2', 'City18', 'City13',\n",
       "       'City9', 'City19', 'City13', 'City11', 'City1', 'City7', 'City15',\n",
       "       'City1', 'City12', 'City7', 'City15', 'City19', 'City1', 'City17',\n",
       "       'City17', 'City3', 'City12', 'City6', 'City11', 'City3', 'City8',\n",
       "       'City14', 'City14', 'City10', 'City2', 'City14', 'City9', 'City3',\n",
       "       'City8', 'City16', 'City2', 'City6', 'City12', 'City5', 'City2',\n",
       "       'City16', 'City5', 'City15', 'City12', 'City4', 'City15', 'City11',\n",
       "       'City16', 'City6', 'City14', 'City18', 'City12', 'City11',\n",
       "       'City13', 'City11', 'City16', 'City15', 'City15', 'City4',\n",
       "       'City11', 'City19', 'City15', 'City4', 'City13', 'City19', 'City2',\n",
       "       'City14', 'City4', 'City16', 'City20', 'City14', 'City15', 'City3',\n",
       "       'City8', 'City16', 'City10', 'City4', 'City18', 'City2', 'City17',\n",
       "       'City13', 'City4', 'City11', 'City7', 'City12', 'City10', 'City7',\n",
       "       'City13', 'City7', 'City17', 'City10', 'City10', 'City4', 'City20',\n",
       "       'City4', 'City7', 'City1', 'City12', 'City13', 'City10', 'City15',\n",
       "       'City13', 'City9', 'City9', 'City15', 'City10', 'City10', 'City8',\n",
       "       'City16', 'City17', 'City5', 'City4', 'City18', 'City19', 'City4',\n",
       "       'City7', 'City10', 'City18', 'City19', 'City4', 'City10', 'City1',\n",
       "       'City18', 'City5', 'City15', 'City17', 'City3', 'City12', 'City2',\n",
       "       'City1', 'City17', 'City16', 'City5', 'City15', 'City3', 'City7',\n",
       "       'City11', 'City10', 'City9', 'City14', 'City13', 'City2', 'City3',\n",
       "       'City7', 'City18', 'City3', 'City10', 'City7', 'City9', 'City17',\n",
       "       'City11', 'City7', 'City14', 'City19', 'City4', 'City6', 'City10',\n",
       "       'City7', 'City13', 'City14', 'City4', 'City8', 'City5', 'City1',\n",
       "       'City4', 'City3', 'City9', 'City8', 'City1', 'City6', 'City9',\n",
       "       'City7', 'City4', 'City13', 'City17', 'City2', 'City5', 'City12',\n",
       "       'City8', 'City6', 'City8', 'City18', 'City3', 'City12', 'City3',\n",
       "       'City6', 'City2', 'City12', 'City2', 'City6', 'City17', 'City3',\n",
       "       'City2', 'City20', 'City8', 'City12', 'City4', 'City5', 'City13',\n",
       "       'City15', 'City16', 'City10', 'City16', 'City12', 'City17',\n",
       "       'City16', 'City12', 'City8', 'City20', 'City3', 'City16', 'City13',\n",
       "       'City19', 'City8', 'City5', 'City20', 'City8', 'City12', 'City1',\n",
       "       'City20', 'City6', 'City18', 'City8', 'City7', 'City1', 'City16',\n",
       "       'City12', 'City6', 'City20', 'City2', 'City14', 'City4', 'City1',\n",
       "       'City18', 'City13', 'City2', 'City9', 'City2', 'City9', 'City1',\n",
       "       'City11', 'City3', 'City20', 'City4', 'City18', 'City6', 'City3',\n",
       "       'City11', 'City15', 'City5', 'City20', 'City10', 'City12',\n",
       "       'City15', 'City17', 'City10', 'City6', 'City18', 'City13', 'City3',\n",
       "       'City10', 'City14', 'City6', 'City3', 'City16', 'City7', 'City20',\n",
       "       'City14', 'City9', 'City15', 'City3', 'City2', 'City2', 'City3',\n",
       "       'City18', 'City14', 'City20', 'City18', 'City10', 'City2', 'City1',\n",
       "       'City4', 'City14', 'City1', 'City14', 'City16', 'City14', 'City20',\n",
       "       'City3', 'City3', 'City9', 'City6', 'City13', 'City2', 'City8',\n",
       "       'City2', 'City4', 'City15', 'City4', 'City13', 'City12', 'City13',\n",
       "       'City14', 'City20', 'City18', 'City6', 'City11', 'City2', 'City19',\n",
       "       'City19', 'City5', 'City19', 'City2', 'City10', 'City2', 'City11',\n",
       "       'City18', 'City15', 'City9', 'City19', 'City9', 'City3', 'City9',\n",
       "       'City14', 'City19', 'City7', 'City16', 'City16', 'City1', 'City4',\n",
       "       'City4', 'City7', 'City8', 'City17', 'City5', 'City7', 'City20',\n",
       "       'City20', 'City4', 'City6', 'City7', 'City18', 'City5', 'City20',\n",
       "       'City3', 'City7', 'City14', 'City7', 'City5', 'City5', 'City2',\n",
       "       'City6', 'City15', 'City10', 'City7', 'City5', 'City1', 'City13',\n",
       "       'City18', 'City13', 'City18', 'City5', 'City13', 'City4', 'City17',\n",
       "       'City3', 'City17', 'City11', 'City20', 'City4', 'City2', 'City20',\n",
       "       'City16', 'City18', 'City8', 'City3', 'City9', 'City20', 'City6',\n",
       "       'City10', 'City10', 'City13', 'City17', 'City9', 'City17', 'City9',\n",
       "       'City9', 'City1', 'City2', 'City16', 'City1', 'City10', 'City18',\n",
       "       'City8', 'City11', 'City2', 'City8', 'City8', 'City17', 'City15',\n",
       "       'City17', 'City13', 'City19', 'City5', 'City12', 'City1', 'City5',\n",
       "       'City8', 'City13', 'City8', 'City11', 'City1', 'City13', 'City19',\n",
       "       'City3', 'City17', 'City5', 'City20', 'City8', 'City14', 'City4',\n",
       "       'City11', 'City20', 'City15', 'City19', 'City7', 'City19',\n",
       "       'City19', 'City11', 'City5', 'City5', 'City8', 'City10', 'City6',\n",
       "       'City15', 'City16', 'City17', 'City8', 'City8', 'City9', 'City2',\n",
       "       'City15', 'City18', 'City3', 'City17', 'City4', 'City4', 'City14',\n",
       "       'City9', 'City9', 'City18', 'City10', 'City4', 'City12', 'City8',\n",
       "       'City2', 'City13', 'City16', 'City2', 'City11', 'City10', 'City15',\n",
       "       'City17', 'City8', 'City18', 'City9', 'City8', 'City14', 'City18',\n",
       "       'City20', 'City20', 'City12', 'City19', 'City14', 'City17',\n",
       "       'City3', 'City7', 'City17', 'City12', 'City9', 'City15', 'City18',\n",
       "       'City13', 'City8', 'City14', 'City8', 'City14', 'City7', 'City12',\n",
       "       'City11', 'City11', 'City13', 'City18', 'City2', 'City15',\n",
       "       'City20', 'City18', 'City15', 'City19', 'City12', 'City13',\n",
       "       'City11', 'City5', 'City1', 'City3', 'City19', 'City7', 'City12',\n",
       "       'City15', 'City5', 'City15', 'City8', 'City10', 'City16', 'City8',\n",
       "       'City1', 'City12', 'City5', 'City3', 'City1', 'City4', 'City8',\n",
       "       'City3', 'City10', 'City2', 'City11', 'City10', 'City14', 'City7',\n",
       "       'City2', 'City9', 'City16', 'City13', 'City9', 'City20', 'City4',\n",
       "       'City10', 'City12', 'City17', 'City14', 'City14', 'City2',\n",
       "       'City20', 'City11', 'City16', 'City19', 'City6', 'City19', 'City5',\n",
       "       'City4', 'City15', 'City4', 'City20', 'City10', 'City3', 'City5',\n",
       "       'City6', 'City8', 'City7', 'City10', 'City6', 'City14', 'City4',\n",
       "       'City13', 'City20', 'City17', 'City7', 'City4', 'City14', 'City3',\n",
       "       'City5', 'City16', 'City20', 'City4', 'City2', 'City18', 'City19',\n",
       "       'City19', 'City17', 'City14', 'City19', 'City13', 'City12',\n",
       "       'City6', 'City4', 'City19', 'City16', 'City13', 'City4', 'City17',\n",
       "       'City1', 'City18', 'City20', 'City17', 'City15', 'City11',\n",
       "       'City13', 'City1', 'City17', 'City6', 'City4', 'City20', 'City16',\n",
       "       'City15', 'City15', 'City6', 'City15', 'City14', 'City11', 'City7',\n",
       "       'City9', 'City16', 'City5', 'City20', 'City10', 'City18', 'City3',\n",
       "       'City13', 'City11', 'City17', 'City13', 'City6', 'City17',\n",
       "       'City13', 'City19', 'City19', 'City10', 'City3', 'City14',\n",
       "       'City19', 'City5', 'City5', 'City20', 'City17', 'City10', 'City5',\n",
       "       'City4', 'City6', 'City4', 'City7', 'City7', 'City18', 'City3',\n",
       "       'City1', 'City4', 'City6', 'City9', 'City14', 'City12', 'City20',\n",
       "       'City4', 'City12', 'City10', 'City7', 'City3', 'City14', 'City10',\n",
       "       'City16', 'City16', 'City10', 'City13', 'City6', 'City12', 'City9',\n",
       "       'City13', 'City4', 'City11', 'City20', 'City18', 'City11', 'City4',\n",
       "       'City18', 'City1', 'City7', 'City6', 'City15', 'City18', 'City11',\n",
       "       'City20', 'City15', 'City16', 'City7', 'City10', 'City12',\n",
       "       'City14', 'City5', 'City18', 'City5', 'City3', 'City5', 'City17',\n",
       "       'City19', 'City19', 'City12', 'City9', 'City1', 'City18', 'City4',\n",
       "       'City10', 'City7', 'City1', 'City17', 'City2', 'City11', 'City9',\n",
       "       'City7', 'City17', 'City17', 'City2', 'City6', 'City14', 'City6',\n",
       "       'City2', 'City1', 'City10', 'City5', 'City2', 'City16', 'City2',\n",
       "       'City10', 'City2', 'City16', 'City16', 'City19', 'City7', 'City12',\n",
       "       'City15', 'City8', 'City6', 'City10', 'City3', 'City19', 'City17',\n",
       "       'City7', 'City20', 'City4', 'City14', 'City20', 'City15', 'City8',\n",
       "       'City15', 'City20', 'City14', 'City9', 'City8', 'City17', 'City2',\n",
       "       'City3', 'City8', 'City12', 'City1', 'City10', 'City20', 'City3',\n",
       "       'City6', 'City7', 'City20', 'City18', 'City11', 'City19', 'City5',\n",
       "       'City19', 'City11', 'City12', 'City10', 'City8', 'City9', 'City4',\n",
       "       'City5', 'City8', 'City9', 'City15', 'City15', 'City16', 'City14',\n",
       "       'City8', 'City18', 'City10', 'City20', 'City6', 'City12', 'City2',\n",
       "       'City7', 'City16', 'City3', 'City13', 'City3', 'City18', 'City11',\n",
       "       'City8', 'City6', 'City1', 'City1', 'City8', 'City5', 'City16',\n",
       "       'City11', 'City5', 'City4', 'City6', 'City14', 'City19', 'City9',\n",
       "       'City12', 'City11', 'City14', 'City16', 'City1', 'City13',\n",
       "       'City13', 'City2', 'City4', 'City6', 'City5', 'City3', 'City1',\n",
       "       'City4', 'City20', 'City2', 'City5', 'City3', 'City9', 'City20',\n",
       "       'City6', 'City18', 'City6', 'City19', 'City12', 'City11', 'City2',\n",
       "       'City15', 'City12', 'City12', 'City9', 'City2', 'City3', 'City12',\n",
       "       'City16', 'City1', 'City3', 'City20', 'City2', 'City9', 'City19',\n",
       "       'City15', 'City18', 'City11', 'City16', 'City17', 'City5',\n",
       "       'City12', 'City11', 'City15', 'City3', 'City1', 'City20', 'City16',\n",
       "       'City2', 'City2', 'City3', 'City8', 'City15', 'City7', 'City6',\n",
       "       'City9', 'City20', 'City1', 'City8', 'City3', 'City4', 'City15',\n",
       "       'City6', 'City15', 'City3', 'City14', 'City20', 'City14', 'City4',\n",
       "       'City12', 'City17', 'City7', 'City9', 'City3', 'City13', 'City15',\n",
       "       'City18', 'City19', 'City1', 'City6'], dtype='<U6')"
      ]
     },
     "execution_count": 31,
     "metadata": {},
     "output_type": "execute_result"
    }
   ],
   "source": [
    "cities"
   ]
  },
  {
   "cell_type": "code",
   "execution_count": null,
   "metadata": {},
   "outputs": [],
   "source": []
  }
 ],
 "metadata": {
  "kernelspec": {
   "display_name": "Python 3",
   "language": "python",
   "name": "python3"
  },
  "language_info": {
   "codemirror_mode": {
    "name": "ipython",
    "version": 3
   },
   "file_extension": ".py",
   "mimetype": "text/x-python",
   "name": "python",
   "nbconvert_exporter": "python",
   "pygments_lexer": "ipython3",
   "version": "3.8.0"
  },
  "orig_nbformat": 4
 },
 "nbformat": 4,
 "nbformat_minor": 2
}
