{
 "cells": [
  {
   "cell_type": "code",
   "execution_count": 20,
   "metadata": {},
   "outputs": [],
   "source": [
    "import numpy as np\n",
    "\n",
    "# Generating random data for users\n",
    "np.random.seed(42)\n",
    "n_users = 1000\n",
    "ages = np.random.randint(20, 31, size=n_users)\n",
    "genders = np.random.choice(['Male', 'Female', 'Others'], size=n_users)\n",
    "cities = np.random.choice(['City1', 'City2', 'City3', 'City4', 'City5', 'City6', 'City7', 'City8', 'City9', 'City10', 'City11', 'City12', 'City13', 'City14', 'City15', 'City16', 'City17', 'City18', 'City19', 'City20'], size=n_users)\n",
    "\n",
    "# Generating random playing stats for 10 days for every game ID (1 to 20) recorded hourly (60 minute intervals) for each user\n",
    "n_games = 20\n",
    "n_days = 10\n",
    "n_hours = 9\n",
    "game_stats = np.zeros((n_users, n_days, n_hours, n_games))\n",
    "for i in range(n_users):\n",
    "    for j in range(n_days):\n",
    "        for k in range(n_hours):\n",
    "            game_id = np.random.randint(1, 21)\n",
    "            game_stats[i, j, k, game_id-1] = 1\n"
   ]
  },
  {
   "cell_type": "code",
   "execution_count": 21,
   "metadata": {},
   "outputs": [
    {
     "data": {
      "text/plain": [
       "1800000"
      ]
     },
     "execution_count": 21,
     "metadata": {},
     "output_type": "execute_result"
    }
   ],
   "source": [
    "game_stats.size"
   ]
  },
  {
   "cell_type": "code",
   "execution_count": 18,
   "metadata": {},
   "outputs": [
    {
     "data": {
      "text/plain": [
       "numpy.ndarray"
      ]
     },
     "execution_count": 18,
     "metadata": {},
     "output_type": "execute_result"
    }
   ],
   "source": [
    "type(game_stats)\n"
   ]
  },
  {
   "cell_type": "code",
   "execution_count": 12,
   "metadata": {},
   "outputs": [
    {
     "name": "stdout",
     "output_type": "stream",
     "text": [
      "None\n"
     ]
    }
   ],
   "source": [
    "print(np.random.seed(42))"
   ]
  },
  {
   "cell_type": "code",
   "execution_count": 2,
   "metadata": {},
   "outputs": [
    {
     "data": {
      "text/plain": [
       "'f:\\\\Industry_ready_projects\\\\Reverse_Image_Search_Engine\\\\search-engine-data-collection-main'"
      ]
     },
     "execution_count": 2,
     "metadata": {},
     "output_type": "execute_result"
    }
   ],
   "source": [
    "pwd()"
   ]
  },
  {
   "cell_type": "code",
   "execution_count": null,
   "metadata": {},
   "outputs": [],
   "source": []
  }
 ],
 "metadata": {
  "kernelspec": {
   "display_name": "Python 3",
   "language": "python",
   "name": "python3"
  },
  "language_info": {
   "codemirror_mode": {
    "name": "ipython",
    "version": 3
   },
   "file_extension": ".py",
   "mimetype": "text/x-python",
   "name": "python",
   "nbconvert_exporter": "python",
   "pygments_lexer": "ipython3",
   "version": "3.8.0"
  },
  "orig_nbformat": 4
 },
 "nbformat": 4,
 "nbformat_minor": 2
}
